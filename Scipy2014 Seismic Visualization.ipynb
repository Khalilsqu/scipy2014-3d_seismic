{
 "metadata": {
  "name": ""
 },
 "nbformat": 3,
 "nbformat_minor": 0,
 "worksheets": [
  {
   "cells": [
    {
     "cell_type": "markdown",
     "metadata": {
      "slideshow": {
       "slide_type": "slide"
      }
     },
     "source": [
      "Basic Visualization Operations\n",
      "==============================\n",
      "\n",
      "Reading and Writing Data\n",
      "------------------------\n",
      "\n",
      " * [python-geoprobe](https://github.com/joferkington/python-geoprobe) - A library I learned a lot while writing! (Which is to say: It's crufty, quirky, and poorly written.)\n",
      "\n"
     ]
    },
    {
     "cell_type": "code",
     "collapsed": false,
     "input": [
      "import geoprobe\n",
      "\n",
      "vol = geoprobe.volume('data/Volumes/example.vol')\n",
      "vol.data"
     ],
     "language": "python",
     "metadata": {
      "slideshow": {
       "slide_type": "-"
      }
     },
     "outputs": [
      {
       "metadata": {},
       "output_type": "pyout",
       "prompt_number": 1,
       "text": [
        "memmap([[[127, 127, 127, ..., 120,  91, 102],\n",
        "        [127, 127, 127, ..., 147, 122, 128],\n",
        "        [127, 127, 127, ..., 148, 129, 113],\n",
        "        ..., \n",
        "        [127, 127, 127, ..., 157, 199, 201],\n",
        "        [127, 127, 127, ..., 140, 198, 198],\n",
        "        [127, 127, 127, ..., 120, 166, 159]],\n",
        "\n",
        "       [[127, 127, 127, ..., 115,  91, 102],\n",
        "        [127, 127, 127, ..., 139, 127, 125],\n",
        "        [127, 127, 127, ..., 154, 135, 123],\n",
        "        ..., \n",
        "        [127, 127, 127, ..., 185, 187, 164],\n",
        "        [127, 127, 127, ..., 189, 199, 195],\n",
        "        [127, 127, 127, ..., 154, 199, 199]],\n",
        "\n",
        "       [[127, 127, 127, ..., 104,  97, 119],\n",
        "        [127, 127, 127, ..., 130, 123, 131],\n",
        "        [127, 127, 127, ..., 149, 144, 132],\n",
        "        ..., \n",
        "        [127, 127, 127, ..., 201, 187, 145],\n",
        "        [127, 127, 127, ..., 205, 205, 174],\n",
        "        [127, 127, 127, ..., 169, 204, 204]],\n",
        "\n",
        "       ..., \n",
        "       [[127, 127, 127, ..., 121, 133, 164],\n",
        "        [127, 127, 127, ..., 136, 161, 175],\n",
        "        [127, 127, 127, ..., 119, 158, 163],\n",
        "        ..., \n",
        "        [128, 131, 120, ..., 108, 115, 114],\n",
        "        [155, 144,  92, ...,  95,  92,  91],\n",
        "        [137, 120, 109, ..., 113,  85,  85]],\n",
        "\n",
        "       [[127, 127, 127, ..., 135, 134, 136],\n",
        "        [127, 127, 127, ..., 137, 148, 161],\n",
        "        [127, 127, 127, ..., 129, 147, 144],\n",
        "        ..., \n",
        "        [115, 141, 116, ..., 100, 120, 128],\n",
        "        [138, 134, 100, ...,  96,  95,  95],\n",
        "        [108, 122, 129, ..., 125,  98,  85]],\n",
        "\n",
        "       [[127, 127, 127, ..., 141, 128, 107],\n",
        "        [127, 127, 127, ..., 143, 141, 144],\n",
        "        [127, 127, 127, ..., 130, 138, 142],\n",
        "        ..., \n",
        "        [129, 162, 109, ..., 106, 118, 124],\n",
        "        [140, 137, 117, ..., 102, 105, 111],\n",
        "        [126, 106, 137, ..., 121, 106, 100]]], dtype=uint8)"
       ]
      }
     ],
     "prompt_number": 1
    },
    {
     "cell_type": "code",
     "collapsed": false,
     "input": [
      "data = vol.load()\n",
      "data"
     ],
     "language": "python",
     "metadata": {},
     "outputs": [
      {
       "metadata": {},
       "output_type": "pyout",
       "prompt_number": 2,
       "text": [
        "array([[[127, 127, 127, ..., 120,  91, 102],\n",
        "        [127, 127, 127, ..., 147, 122, 128],\n",
        "        [127, 127, 127, ..., 148, 129, 113],\n",
        "        ..., \n",
        "        [127, 127, 127, ..., 157, 199, 201],\n",
        "        [127, 127, 127, ..., 140, 198, 198],\n",
        "        [127, 127, 127, ..., 120, 166, 159]],\n",
        "\n",
        "       [[127, 127, 127, ..., 115,  91, 102],\n",
        "        [127, 127, 127, ..., 139, 127, 125],\n",
        "        [127, 127, 127, ..., 154, 135, 123],\n",
        "        ..., \n",
        "        [127, 127, 127, ..., 185, 187, 164],\n",
        "        [127, 127, 127, ..., 189, 199, 195],\n",
        "        [127, 127, 127, ..., 154, 199, 199]],\n",
        "\n",
        "       [[127, 127, 127, ..., 104,  97, 119],\n",
        "        [127, 127, 127, ..., 130, 123, 131],\n",
        "        [127, 127, 127, ..., 149, 144, 132],\n",
        "        ..., \n",
        "        [127, 127, 127, ..., 201, 187, 145],\n",
        "        [127, 127, 127, ..., 205, 205, 174],\n",
        "        [127, 127, 127, ..., 169, 204, 204]],\n",
        "\n",
        "       ..., \n",
        "       [[127, 127, 127, ..., 121, 133, 164],\n",
        "        [127, 127, 127, ..., 136, 161, 175],\n",
        "        [127, 127, 127, ..., 119, 158, 163],\n",
        "        ..., \n",
        "        [128, 131, 120, ..., 108, 115, 114],\n",
        "        [155, 144,  92, ...,  95,  92,  91],\n",
        "        [137, 120, 109, ..., 113,  85,  85]],\n",
        "\n",
        "       [[127, 127, 127, ..., 135, 134, 136],\n",
        "        [127, 127, 127, ..., 137, 148, 161],\n",
        "        [127, 127, 127, ..., 129, 147, 144],\n",
        "        ..., \n",
        "        [115, 141, 116, ..., 100, 120, 128],\n",
        "        [138, 134, 100, ...,  96,  95,  95],\n",
        "        [108, 122, 129, ..., 125,  98,  85]],\n",
        "\n",
        "       [[127, 127, 127, ..., 141, 128, 107],\n",
        "        [127, 127, 127, ..., 143, 141, 144],\n",
        "        [127, 127, 127, ..., 130, 138, 142],\n",
        "        ..., \n",
        "        [129, 162, 109, ..., 106, 118, 124],\n",
        "        [140, 137, 117, ..., 102, 105, 111],\n",
        "        [126, 106, 137, ..., 121, 106, 100]]], dtype=uint8)"
       ]
      }
     ],
     "prompt_number": 2
    },
    {
     "cell_type": "markdown",
     "metadata": {
      "slideshow": {
       "slide_type": "slide"
      }
     },
     "source": [
      "But what does it look like?\n",
      "\n",
      "  * Use Mayavi for quick volume slicing"
     ]
    },
    {
     "cell_type": "code",
     "collapsed": false,
     "input": [
      "from mayavi import mlab\n",
      "\n",
      "import geoprobe\n",
      "\n",
      "vol = geoprobe.volume('data/Volumes/example.vol')\n",
      "data = vol.load()\n",
      "\n",
      "source = mlab.pipeline.scalar_field(data)\n",
      "source.spacing = [1, 1, -1]\n",
      "\n",
      "for axis in ['x', 'z']:\n",
      "    plane = mlab.pipeline.image_plane_widget(source, \n",
      "                                    plane_orientation='{}_axes'.format(axis),\n",
      "                                    slice_index=100, colormap='gray')\n",
      "    # Flip colormap. Better way to do this?\n",
      "    plane.module_manager.scalar_lut_manager.reverse_lut = True\n",
      "\n",
      "mlab.outline()\n",
      "mlab.show()"
     ],
     "language": "python",
     "metadata": {},
     "outputs": []
    },
    {
     "cell_type": "markdown",
     "metadata": {
      "slideshow": {
       "slide_type": "slide"
      }
     },
     "source": [
      "Working With a Horizon\n"
     ]
    },
    {
     "cell_type": "code",
     "collapsed": false,
     "input": [
      "from mayavi import mlab\n",
      "import numpy as np\n",
      "import geoprobe\n",
      "import scipy.ndimage\n",
      "\n",
      "hor = geoprobe.horizon('data/Horizons/channels.hzn')\n",
      "vol = geoprobe.volume('data/Volumes/example.vol')\n",
      "data = vol.load()\n",
      "\n",
      "# Because we're not working in inline/crossline, convert to \"pixel\" coords.\n",
      "z = hor.grid\n",
      "z = vol.model2index(z, axis='z')\n",
      "\n",
      "# Clip out some spikes and smooth the surface a bit...\n",
      "z = scipy.ndimage.median_filter(z, 4)\n",
      "z = scipy.ndimage.gaussian_filter(z, 1)\n",
      "\n",
      "# Quirks due to the way hor.grid is defined...\n",
      "mlab.surf(np.arange(z.shape[0]), np.arange(z.shape[1]), -z.T)\n",
      "\n",
      "source = mlab.pipeline.scalar_field(data)\n",
      "source.spacing = [1, 1, -1]\n",
      "\n",
      "for axis in ['x', 'y']:\n",
      "    plane = mlab.pipeline.image_plane_widget(source, \n",
      "                                    plane_orientation='{}_axes'.format(axis),\n",
      "                                    slice_index=100, colormap='gray')\n",
      "    plane.module_manager.scalar_lut_manager.reverse_lut = True\n",
      "\n",
      "mlab.show()"
     ],
     "language": "python",
     "metadata": {},
     "outputs": []
    },
    {
     "cell_type": "markdown",
     "metadata": {
      "slideshow": {
       "slide_type": "slide"
      }
     },
     "source": [
      "Extracting Attributes on a Surface\n",
      "\n"
     ]
    },
    {
     "cell_type": "code",
     "collapsed": false,
     "input": [
      "import matplotlib.pyplot as plt\n",
      "from matplotlib.colors import LightSource\n",
      "import geoprobe\n",
      "\n",
      "hor = geoprobe.horizon('data/Horizons/channels_smoothed.hzn')\n",
      "vol = geoprobe.volume('data/Volumes/example.vol')\n",
      "data = vol.load()\n",
      "\n",
      "# Extract volume attributes at each node in the horizon\n",
      "i, j, k = vol.model2index(hor.x, hor.y, hor.z)\n",
      "attr = data[i.astype(int), j.astype(int), k.astype(int)]\n",
      "\n",
      "# Put unordered, but regularly spaced x, y, z back on a grid\n",
      "attr_grid = geoprobe.horizon(hor.x, hor.y, attr).grid\n",
      "\n",
      "fig, axes = plt.subplots(ncols=2)\n",
      "axes[0].imshow(attr_grid, cmap='gray', vmin=0, vmax=255)\n",
      "\n",
      "# Show the \"hillshaded\" horizon\n",
      "ls = LightSource(azdeg=315, altdeg=45)\n",
      "axes[1].imshow(ls.shade(-hor.grid, plt.cm.jet))\n",
      "\n",
      "for ax in axes:\n",
      "    ax.invert_yaxis()\n",
      "\n",
      "plt.show()\n"
     ],
     "language": "python",
     "metadata": {},
     "outputs": []
    },
    {
     "cell_type": "markdown",
     "metadata": {},
     "source": [
      "Co-Rendering\n",
      "=============\n",
      "\n",
      "Crude Spectral Decomposition\n",
      "----------------------------\n",
      "\n",
      "Spectral decomposition is essentially a series of closely-spaced bandpass filters.  It generates several output volumes, each corresponding to a different bandpass filter.  \n",
      "\n",
      "In this case, we'll co-render three spectral decomposition volumes, with one each in the red, green, and blue bands.  This illustrates one of the most common types of co-rendering."
     ]
    },
    {
     "cell_type": "code",
     "collapsed": false,
     "input": [
      "import numpy as np\n",
      "from scipy.ndimage import gaussian_filter1d\n",
      "import geoprobe\n",
      "\n",
      "# Local import with a few simple utility functions.\n",
      "import utilities\n",
      "\n",
      "vol = geoprobe.volume('data/Volumes/example.vol')\n",
      "data = vol.load()\n",
      "\n",
      "blurs = [gaussian_filter1d(data, sigma) for sigma in np.linspace(1, 9, 4)]\n",
      "r, g, b = [a - b for (a, b) in zip(blurs[1:], blurs)]\n",
      "\n",
      "rgb = utilities.stack_bands(r, g, b)\n",
      "utilities.Explorer(rgb, axis=0).show()"
     ],
     "language": "python",
     "metadata": {},
     "outputs": []
    },
    {
     "cell_type": "markdown",
     "metadata": {},
     "source": [
      "Extract Co-rendered Spectral Decomposition onto Horizon\n",
      "-------------------\n"
     ]
    },
    {
     "cell_type": "code",
     "collapsed": false,
     "input": [
      "\n",
      "hor = geoprobe.horizon('data/Horizons/channels.hzn')\n",
      "i, j, k = vol.model2index(hor.x, hor.y, hor.z)\n",
      "\n",
      "attr = rgb[i.astype(int), j.astype(int), k.astype(int)]\n",
      "\n",
      "fig, ax = plt.subplots()\n",
      "ax.imshow(utilities.grid(hor.x, hor.y, attr), cmap='gray',\n",
      "               vmin=0, vmax=255)\n",
      "\n",
      "plt.show()"
     ],
     "language": "python",
     "metadata": {},
     "outputs": []
    },
    {
     "cell_type": "markdown",
     "metadata": {},
     "source": [
      "Other Types of Co-Rendering\n",
      "---------------------------\n",
      "\n",
      "We want to combine a coherence volume with standard seismic amplitudes to better visualize faulting."
     ]
    },
    {
     "cell_type": "code",
     "collapsed": false,
     "input": [
      "vol1 = geoprobe.volume('data/Volumes/example.vol')\n",
      "vol2 = geoprobe.volume('data/Volumes/coherence.vol')\n",
      "\n",
      "cmap = geoprobe.colormap('data/Colormaps/brown_black').as_matplotlib\n",
      "\n",
      "xline = vol1.ymin\n",
      "\n",
      "seis_data = vol1[:, xline, :].T\n",
      "coh_data = vol2[:, xline, :].T\n",
      "coh_data = coh_data[:,:-1]# Slightly different shapes...\n",
      "\n",
      "fig, axes = plt.subplots(ncols=2)\n",
      "axes[0].imshow(seis_data, cmap=cmap)\n",
      "axes[1].imshow(coh_data, cmap='gray')\n",
      "plt.show()"
     ],
     "language": "python",
     "metadata": {},
     "outputs": []
    },
    {
     "cell_type": "markdown",
     "metadata": {},
     "source": [
      "Side note on matplotlib's rendering: \n",
      "\n",
      "Interpolating the in the RGB domain gives odd artifacts.  Let's do most of the interpolation beforehand so the artifacts are less severe."
     ]
    },
    {
     "cell_type": "code",
     "collapsed": false,
     "input": [
      "from scipy.ndimage import zoom\n",
      "\n",
      "factor = 3\n",
      "coh_data = zoom(coh_data, factor)\n",
      "seis_data = zoom(seis_data, factor)\n",
      "\n",
      "fig, axes = plt.subplots(ncols=2)\n",
      "axes[0].imshow(seis_data, cmap=cmap)\n",
      "axes[1].imshow(coh_data, cmap='gray')\n",
      "plt.show()"
     ],
     "language": "python",
     "metadata": {},
     "outputs": []
    },
    {
     "cell_type": "markdown",
     "metadata": {},
     "source": [
      "Co-Rendering The Obvious Way: Overlay the two images..."
     ]
    },
    {
     "cell_type": "code",
     "collapsed": false,
     "input": [
      "fig, ax = plt.subplots()\n",
      "ax.imshow(seis_data, cmap=cmap)\n",
      "ax.imshow(coh_data, cmap='gray', alpha=0.5)\n",
      "plt.show()"
     ],
     "language": "python",
     "metadata": {},
     "outputs": []
    },
    {
     "cell_type": "markdown",
     "metadata": {},
     "source": [
      "Wait... Isn't \"hillshading\" just a type of co-rendering??\n"
     ]
    },
    {
     "cell_type": "code",
     "collapsed": false,
     "input": [
      "from matplotlib.colors import LightSource\n",
      "import geoprobe\n",
      "\n",
      "hor = geoprobe.horizon('data/Horizons/channels_smoothed.hzn')\n",
      "fig, ax = plt.subplots()\n",
      "\n",
      "# Show the \"hillshaded\" horizon\n",
      "ls = LightSource(azdeg=45, altdeg=45)\n",
      "ax.imshow(ls.shade(-hor.grid, plt.cm.jet))\n",
      "\n",
      "plt.show()"
     ],
     "language": "python",
     "metadata": {},
     "outputs": []
    },
    {
     "cell_type": "markdown",
     "metadata": {},
     "source": [
      "Let's try exploiting ``LightSource``"
     ]
    },
    {
     "cell_type": "code",
     "collapsed": false,
     "input": [
      "ls = LightSource(azdeg=315, altdeg=45)\n",
      "\n",
      "fig, ax = plt.subplots()\n",
      "\n",
      "rgb = cmap(seis_data / 255.0)\n",
      "rgb = ls.shade_rgb(rgb, coh_data, 0.5)\n",
      "\n",
      "ax.imshow(rgb)\n",
      "plt.show()"
     ],
     "language": "python",
     "metadata": {},
     "outputs": []
    },
    {
     "cell_type": "markdown",
     "metadata": {},
     "source": [
      "Bad, but we're getting somewhere...\n",
      "\n",
      "What went wrong? \n",
      "\n",
      "For one, it'd be better to only use a portion of the coherence data. Basically, only corender inside of some mask.\n",
      "\n",
      "Second, ``LightSource`` converts from RGB to HSV and uses the \"hillshaded\" image to shift the S and V bands (effectively similar to converting to HSL and using the hillshade as the L band).\n",
      "\n",
      "There are better (less \"harsh-looking\") ways to combine the two.\n",
      "\n",
      "For both of these reasons, let's subclass ``LightSource``:"
     ]
    },
    {
     "cell_type": "code",
     "collapsed": false,
     "input": [
      "from matplotlib.colors import LightSource\n",
      "\n",
      "class Shader(LightSource):\n",
      "    def shade(self, data, shadedata=None, cmap=plt.cm.jet, fraction=1.0, \n",
      "              mask=None, mode='overlay'):\n",
      "        if shadedata is None:\n",
      "            shadedata = data\n",
      "        data = data.astype(float)\n",
      "        shadedata = shadedata.astype(float)\n",
      "\n",
      "        rgba = cmap((data.astype(float) - data.min()) / data.ptp())\n",
      "        rgb = self.shade_rgb(rgba, elevation=shadedata, mode=mode)\n",
      "\n",
      "        if mask is not None:\n",
      "            for i in range(3):\n",
      "                rgba[:,:,i] = np.where(mask, rgb[:,:,i], rgba[:,:,i])\n",
      "        else:\n",
      "            rgba[:,:,:3] = rgb[:,:,:3]\n",
      "        return rgba\n",
      "\n",
      "    def hillshade(self, data, fraction=1.0):\n",
      "        az = np.radians(self.azdeg)\n",
      "        alt = np.radians(self.altdeg)\n",
      "\n",
      "        dx, dy = np.gradient(data)\n",
      "        slope = 0.5 * np.pi - np.arctan(np.hypot(dx, dy))\n",
      "        aspect = np.arctan2(dx, dy)\n",
      "        intensity = (np.sin(alt) * np.sin(slope) \n",
      "                   + np.cos(alt) * np.cos(slope) \n",
      "                     * np.cos(-az - aspect - 0.5 * np.pi))\n",
      "\n",
      "        intensity = (intensity - intensity.min()) / intensity.ptp()\n",
      "        if fraction != 1.0:\n",
      "            intensity = fraction * (intensity - 0.5) + 0.5\n",
      "            if np.abs(fraction) > 1:\n",
      "                np.clip(intensity, 0, 1, intensity)\n",
      "        return intensity\n",
      "\n",
      "    def shade_rgb(self, rgb, elevation, fraction=1.0, mode='overlay'):\n",
      "        if mode == 'hsv':\n",
      "            return LightSource.shade_rgb(self, rgb, elevation)\n",
      "        \n",
      "        intensity = self.hillshade(elevation, fraction)\n",
      "        intensity = intensity[:,:,np.newaxis]\n",
      "        func = {'overlay':self.overlay, 'soft':self.soft_light}[mode]\n",
      "        return func(rgb, intensity)\n",
      "\n",
      "    def soft_light(self, rgb, intensity):\n",
      "        return 2 * intensity * rgb + (1 - 2 * intensity) * rgb**2 \n",
      "\n",
      "    def overlay(self, rgb, intensity):\n",
      "        low = 2 * intensity * rgb\n",
      "        high = 1 - 2 * (1 - intensity) * (1 - rgb)\n",
      "        return np.where(rgb <= 0.5, low, high)\n"
     ],
     "language": "python",
     "metadata": {},
     "outputs": []
    },
    {
     "cell_type": "markdown",
     "metadata": {},
     "source": [
      "First off, let's look at what just masking out the high-coherence parts does:"
     ]
    },
    {
     "cell_type": "code",
     "collapsed": false,
     "input": [
      "ls = Shader(azdeg=315, altdeg=45)\n",
      "\n",
      "fig, axes = plt.subplots(ncols=2)\n",
      "\n",
      "# We're only interested in the low-coherence portions...\n",
      "mask = coh_data < (coh_data.mean() + 0.8 * coh_data.std())\n",
      "\n",
      "rgb = ls.shade(seis_data, coh_data, cmap, mask=mask, mode='hsv')\n",
      "\n",
      "axes[0].imshow(seis_data, cmap=cmap)\n",
      "axes[1].imshow(rgb)\n",
      "plt.show()"
     ],
     "language": "python",
     "metadata": {},
     "outputs": []
    },
    {
     "cell_type": "markdown",
     "metadata": {},
     "source": [
      "Definitely an improvement... Now let's try some different blending modes:"
     ]
    },
    {
     "cell_type": "code",
     "collapsed": false,
     "input": [
      "ls = Shader(azdeg=315, altdeg=45)\n",
      "\n",
      "fig, axes = plt.subplots(ncols=2)\n",
      "\n",
      "# We're only interested in the low-coherence portions...\n",
      "mask = coh_data < (coh_data.mean() + 0.8 * coh_data.std())\n",
      "\n",
      "rgb = ls.shade(seis_data, coh_data, cmap, mask=mask, mode='overlay')\n",
      "\n",
      "axes[0].imshow(seis_data, cmap=cmap)\n",
      "axes[1].imshow(rgb)\n",
      "plt.show()"
     ],
     "language": "python",
     "metadata": {},
     "outputs": []
    },
    {
     "cell_type": "code",
     "collapsed": false,
     "input": [
      "ls = Shader(azdeg=315, altdeg=45)\n",
      "\n",
      "fig, axes = plt.subplots(ncols=2)\n",
      "\n",
      "# We're only interested in the low-coherence portions...\n",
      "mask = coh_data < (coh_data.mean() + 0.8 * coh_data.std())\n",
      "\n",
      "rgb = ls.shade(seis_data, coh_data, cmap, mask=mask, mode='soft')\n",
      "\n",
      "axes[0].imshow(seis_data, cmap=cmap)\n",
      "axes[1].imshow(rgb)\n",
      "plt.show()"
     ],
     "language": "python",
     "metadata": {},
     "outputs": []
    },
    {
     "cell_type": "markdown",
     "metadata": {},
     "source": [
      "Volume Flattening\n",
      "----------------\n",
      "\n",
      "Remember when we extracted attributes on a surface?\n",
      "\n",
      "Suppose we were to shift the surface up or down vertically and do the same thing.  If you were doing this many times, it would become more efficient to just create a new volume that was \"flattened\" on the surface and just look at slices along the z-axis."
     ]
    },
    {
     "cell_type": "code",
     "collapsed": false,
     "input": [
      "import numpy as np\n",
      "import geoprobe\n",
      "\n",
      "import utilities\n",
      "\n",
      "hor = geoprobe.horizon('data/Horizons/channels_smoothed.hzn')\n",
      "vol = geoprobe.volume('data/Volumes/example.vol')\n",
      "data = vol.load()\n",
      "\n",
      "window_above = 10\n",
      "window_below = 50\n",
      "\n",
      "shape = (data.shape[0], data.shape[1], window_above + window_below + 1)\n",
      "output = np.zeros(shape, data.dtype)\n",
      "\n",
      "# Simplest possible case!\n",
      "for i, j, k in zip(*vol.model2index(hor.x, hor.y, hor.z)):\n",
      "    output[i,j,:] = data[i,j, k-window_above:k+window_below+1]\n",
      "\n",
      "utilities.Explorer(output, axis=2).show()\n"
     ],
     "language": "python",
     "metadata": {},
     "outputs": []
    },
    {
     "cell_type": "markdown",
     "metadata": {},
     "source": [
      "Python-geoprobe actually has a method to handle a few more of the special cases.  It's intended to extract a slim window around a horizon (e.g. for an RMS amplitude calculation), but it effectively does volume flattening.  Let's use it instead:"
     ]
    },
    {
     "cell_type": "code",
     "collapsed": false,
     "input": [
      "import numpy as np\n",
      "import geoprobe\n",
      "\n",
      "import utilities\n",
      "\n",
      "hor = geoprobe.horizon('data/Horizons/channels_smoothed.hzn')\n",
      "vol = geoprobe.volume('data/Volumes/example.vol')\n",
      "data = vol.load()\n",
      "\n",
      "window_above = 10\n",
      "window_below = 50\n",
      "\n",
      "# Written a long time ago. Forgive the non-PEP8 naming!\n",
      "output = geoprobe.utilities.extractWindow(hor, vol, window_above, window_below)\n",
      "\n",
      "utilities.Explorer(output, axis=2).show()\n"
     ],
     "language": "python",
     "metadata": {},
     "outputs": []
    },
    {
     "cell_type": "markdown",
     "metadata": {},
     "source": [
      "One particularly effective \"quick-look\" method is to flatten a coherence volume on the seafloor slice through it:"
     ]
    },
    {
     "cell_type": "code",
     "collapsed": false,
     "input": [
      "import numpy as np\n",
      "import geoprobe\n",
      "\n",
      "import utilities\n",
      "\n",
      "hor = geoprobe.horizon('data/Horizons/seafloor.hzn')\n",
      "vol = geoprobe.volume('data/Volumes/coherence.vol')\n",
      "data = vol.load()\n",
      "\n",
      "window_above = 0\n",
      "window_below = 100\n",
      "\n",
      "output = geoprobe.utilities.extractWindow(hor, vol, window_above, window_below)\n",
      "\n",
      "utilities.Explorer(output, axis=2, cmap='gray').show()"
     ],
     "language": "python",
     "metadata": {},
     "outputs": []
    },
    {
     "cell_type": "markdown",
     "metadata": {},
     "source": [
      "Stratal Slicing\n",
      "===============\n",
      "\n",
      "The Problem:  We're only slicing parallel to _one_ horizon!"
     ]
    },
    {
     "cell_type": "code",
     "collapsed": false,
     "input": [
      "import numpy as np\n",
      "import matplotlib.pyplot as plt\n",
      "import geoprobe\n",
      "\n",
      "# \"seismic_plotting\" would make all of this a couple of lines...\n",
      "\n",
      "hor1 = geoprobe.horizon('data/Horizons/channels.hzn')\n",
      "hor2 = geoprobe.horizon('data/Horizons/seafloor.hzn')\n",
      "cmap = geoprobe.colormap('data/Colormaps/brown_black').as_matplotlib\n",
      "vol = geoprobe.volume('data/Volumes/example.vol')\n",
      "data = vol.load()\n",
      "\n",
      "ind = 80\n",
      "dat = data[ind,:,:]\n",
      "\n",
      "y1, y2 = [vol.model2index(a.grid[:,ind], axis='z') for a in [hor1, hor2]]\n",
      "x = np.arange(y1.size)\n",
      "\n",
      "fig, ax = plt.subplots()\n",
      "ax.plot(x, y1, lw=3, color='red')\n",
      "ax.plot(x, y2, lw=3, color='red')\n",
      "ax.imshow(dat.T, cmap=cmap)\n",
      "plt.show()"
     ],
     "language": "python",
     "metadata": {},
     "outputs": []
    },
    {
     "cell_type": "markdown",
     "metadata": {},
     "source": [
      "The solution: Create more horizons by interpolating vertically!"
     ]
    },
    {
     "cell_type": "code",
     "collapsed": false,
     "input": [
      "num_output = 10\n",
      "yinterp = np.zeros([num_output, x.size], dtype=float)\n",
      "yi = np.linspace(0, 1, num_output)\n",
      "for i in range(x.size):\n",
      "    yinterp[:,i] = np.interp(yi, [0, 1], [y1[i], y2[i]])\n",
      "\n",
      "fig, ax = plt.subplots()\n",
      "\n",
      "for line in yinterp:\n",
      "    ax.plot(x, line, lw=3, color='red')\n",
      "\n",
      "ax.imshow(dat.T, cmap=cmap)\n",
      "plt.show()"
     ],
     "language": "python",
     "metadata": {},
     "outputs": []
    },
    {
     "cell_type": "markdown",
     "metadata": {},
     "source": [
      "Now let's do it for the full 3D case...\n",
      "\n",
      "First let's load the data"
     ]
    },
    {
     "cell_type": "code",
     "collapsed": false,
     "input": [
      "import numpy as np\n",
      "from scipy.ndimage import map_coordinates\n",
      "import geoprobe\n",
      "\n",
      "import utilities\n",
      "\n",
      "vol = geoprobe.volume('data/Volumes/pseudo_coherence.vol')\n",
      "data = vol.load()\n",
      "\n",
      "horizons = [\n",
      "    'data/Horizons/seafloor.hzn',\n",
      "    'data/Horizons/channels_smoothed.hzn',\n",
      "    ]\n",
      "numhorizons = len(horizons)\n",
      "horizons = [geoprobe.horizon(filename).grid.T for filename in horizons]\n",
      "horizons = np.dstack(horizons)\n",
      "horizons = vol.model2index(horizons, axis='z')"
     ],
     "language": "python",
     "metadata": {},
     "outputs": []
    },
    {
     "cell_type": "markdown",
     "metadata": {},
     "source": [
      "Then let's interpolate 50 new grids between our original two horizons..."
     ]
    },
    {
     "cell_type": "code",
     "collapsed": false,
     "input": [
      "#-- Interpolate new horizons between originals\n",
      "interp_steps = 50\n",
      "total_num = (numhorizons - 1) * interp_steps\n",
      "shape = [horizons.shape[0], horizons.shape[1], total_num]\n",
      "interp_horizons = np.zeros(shape, float)\n",
      "\n",
      "xp = np.arange(numhorizons)\n",
      "xi = np.linspace(0, numhorizons-1, total_num)\n",
      "for i, j in np.ndindex(horizons.shape[:2]):\n",
      "    interp_horizons[i,j,:] = np.interp(xi, xp, horizons[i,j,:])"
     ],
     "language": "python",
     "metadata": {},
     "outputs": []
    },
    {
     "cell_type": "markdown",
     "metadata": {},
     "source": [
      "And then we'll sample the seismic volume at each of these horizons.  In this case, we'll use linear interpolation instead of simple indexing (i.e. nearest interp)."
     ]
    },
    {
     "cell_type": "code",
     "collapsed": false,
     "input": [
      "#-- Sample the seismic volume at these locations\n",
      "i, j = np.mgrid[:horizons.shape[0], :horizons.shape[1]]\n",
      "output = np.zeros(interp_horizons.shape, data.dtype)\n",
      "\n",
      "# Could fully vectorize if we had enough memory. No benefit, though.\n",
      "for k in range(output.shape[2]):\n",
      "    z = interp_horizons[:,:,k]\n",
      "    coords = np.c_[i.ravel(), j.ravel(), z.ravel()].T\n",
      "    output[:,:,k] = map_coordinates(data, coords, order=1).reshape(i.shape)\n",
      "\n",
      "utilities.Explorer(output, cmap='gray').show()"
     ],
     "language": "python",
     "metadata": {},
     "outputs": []
    },
    {
     "cell_type": "code",
     "collapsed": false,
     "input": [
      "Explorer(data, axis=0).show()\n",
      "Explorer(data, axis=2).show()"
     ],
     "language": "python",
     "metadata": {},
     "outputs": []
    }
   ],
   "metadata": {}
  }
 ]
}